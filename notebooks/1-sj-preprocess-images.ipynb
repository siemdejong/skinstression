{
 "cells": [
  {
   "cell_type": "code",
   "execution_count": 18,
   "metadata": {},
   "outputs": [],
   "source": [
    "from PIL import Image\n",
    "import os\n",
    "import glob\n",
    "import pandas as pd"
   ]
  },
  {
   "cell_type": "code",
   "execution_count": 8,
   "metadata": {},
   "outputs": [],
   "source": [
    "def convert_label_extensions(source_label_file, target_label_file, target_extension=\"png\"):\n",
    "    \"\"\"Convert label_ids in source_label_file to filename + target_extension and put it at the target destination.\"\"\"\n",
    "    \n",
    "    # Convert image index in labels file.\n",
    "    labels_df = pd.read_csv(source_label_file)\n",
    "    labels_df[\"id\"] = labels_df[\"id\"].replace(\n",
    "        {\"\\w+$\": target_extension}, regex=True\n",
    "    )\n",
    "    labels_filename = os.path.basename(source_label_file)\n",
    "    target_labels_path = target_label_file\n",
    "    labels_df.to_csv(target_labels_path, index=False)"
   ]
  },
  {
   "cell_type": "code",
   "execution_count": 74,
   "metadata": {},
   "outputs": [],
   "source": [
    "def convert_image(source_img_path: str, target_img_path: str, target_extension: str = \"png\"):\n",
    "    with Image.open(source_img_path) as im:\n",
    "        im.save(target_img_path)"
   ]
  },
  {
   "cell_type": "code",
   "execution_count": 72,
   "metadata": {},
   "outputs": [],
   "source": [
    "def batch_convert_tif_to_png(source_img_dir, target_img_dir, source_extension=\"tif\", target_extension=\"png\"):\n",
    "    \"\"\"Converts e.g. data/interim/1__00_.tif to data/processed/patches/1__00_.png\n",
    "\n",
    "    Arguments:\n",
    "        sourc_img_dir (str): directory of the source images.\n",
    "        target_img_dir (str): directory of the target images.\n",
    "    \"\"\"\n",
    "\n",
    "    # Convert images.\n",
    "    glob_search_pattern = os.path.join(source_img_dir, \"*.\" + source_extension)\n",
    "    source_img_paths = glob.glob(glob_search_pattern)\n",
    "    for source_img_path in source_img_paths:\n",
    "        \n",
    "        source_img_filename = os.path.basename(source_img_path)\n",
    "        target_img_filename = (\n",
    "            os.path.splitext(source_img_filename)[0] + \".\" + target_extension\n",
    "        )\n",
    "        target_img_path = os.path.join(target_img_dir, target_img_filename)\n",
    "        convert_image(source_img_path=source_img_path, target_img_path=target_img_path)\n",
    "\n"
   ]
  },
  {
   "cell_type": "code",
   "execution_count": 32,
   "metadata": {},
   "outputs": [],
   "source": [
    "convert_label_extensions('../data/interim/labels.csv', '../data/processed/patches/labels.csv')\n",
    "batch_convert_tif_to_png('../data/interim/', '../data/processed/patches/')"
   ]
  },
  {
   "cell_type": "code",
   "execution_count": null,
   "metadata": {},
   "outputs": [],
   "source": []
  }
 ],
 "metadata": {
  "kernelspec": {
   "display_name": "Python 3.9.13 ('stress-strain': conda)",
   "language": "python",
   "name": "python3"
  },
  "language_info": {
   "codemirror_mode": {
    "name": "ipython",
    "version": 3
   },
   "file_extension": ".py",
   "mimetype": "text/x-python",
   "name": "python",
   "nbconvert_exporter": "python",
   "pygments_lexer": "ipython3",
   "version": "3.9.13"
  },
  "orig_nbformat": 4,
  "vscode": {
   "interpreter": {
    "hash": "4fd9d29be4be53d2a8266d7710f981b13e49e93ff435830c894f457b625c5065"
   }
  }
 },
 "nbformat": 4,
 "nbformat_minor": 2
}
