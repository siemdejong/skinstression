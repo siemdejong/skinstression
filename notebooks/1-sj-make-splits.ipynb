{
 "cells": [
  {
   "cell_type": "code",
   "execution_count": 24,
   "metadata": {},
   "outputs": [],
   "source": [
    "from pathlib import Path\n",
    "\n",
    "import pandas as pd\n",
    "from sklearn.model_selection import KFold, train_test_split"
   ]
  },
  {
   "cell_type": "code",
   "execution_count": 47,
   "metadata": {},
   "outputs": [
    {
     "name": "stdout",
     "output_type": "stream",
     "text": [
      "               a          k        xc        r2  person_id filename\n",
      "index                                                              \n",
      "6      11.907112  23.358183  1.343536  0.998290          4    6.tif\n",
      "8       4.642277  23.513952  1.472741  0.999895          6    8.tif\n",
      "9       7.959597  19.331536  1.331278  0.998797          6    9.tif\n",
      "10      3.309715  28.963632  1.201851  0.996660          7   10.tif\n",
      "11      5.994179  23.651890  1.179996  0.994457          8   11.tif\n",
      "12      3.663657  21.963652  1.265844  0.999329          9   12.tif\n",
      "13      2.427453  17.765873  1.289461  0.998854         10   13.tif\n",
      "14      3.146789  46.671645  1.402187  0.998000         11   14.tif\n",
      "15     14.306805  26.773711  1.185899  0.999180         12   15.tif\n",
      "16      4.064649  29.401408  1.321485  0.996641         13   16.tif\n",
      "17      3.485572  24.474050  1.217597  0.998983         13   17.tif\n",
      "18      3.301961  23.380835  1.235641  0.998955         13   18.tif\n",
      "19      2.950224  21.643259  1.227979  0.998073         14   19.tif\n",
      "20      3.321312  20.254536  1.242796  0.998350         14   20.tif\n",
      "21      1.549959  19.872056  1.301004  0.999047         14   21.tif\n",
      "22      2.560557  30.448394  1.315931  0.999972         14   22.tif\n",
      "23      4.739838  21.277379  1.238345  0.998507         15   23.tif\n",
      "24      3.597038  20.821163  1.226711  0.998829         15   24.tif\n",
      "25      1.785456  21.791985  1.233688  0.999619         15   25.tif\n",
      "26      3.790418  22.273559  1.274910  0.999405         15   26.tif\n",
      "27      0.771947  31.146139  1.263645  0.999592         16   27.tif\n",
      "28      1.225175  30.022472  1.166461  0.999385         16   28.tif\n",
      "29      0.864338  24.697396  1.174168  0.998540         16   29.tif\n",
      "30      1.954778  26.997390  1.180231  0.997550         16   30.tif\n",
      "31      1.300357  28.842858  1.197153  0.998981         16   31.tif\n",
      "32      0.414503  32.769501  1.161757  0.998705         16   32.tif\n",
      "33      0.473350  29.272723  1.179033  0.998788         16   33.tif\n",
      "34      1.952396  30.779833  1.330742  0.974018         16   34.tif\n",
      "35      0.422960  27.679639  1.161830  0.998860         16   35.tif\n",
      "36      0.316880  31.403445  1.160088  0.999604         16   36.tif\n",
      "37      0.381614  26.964580  1.169243  0.999185         16   37.tif\n",
      "38      0.418381  27.764362  1.160843  0.998382         16   38.tif\n",
      "39      3.814699  22.903955  1.217742  0.998652         17   39.tif\n",
      "40      3.485988  39.789146  1.170911  0.999816         17   40.tif\n",
      "41     10.055125  16.923432  1.367112  0.999041         17   41.tif\n",
      "42      6.350467  16.477639  1.263562  0.996345         17   42.tif\n",
      "43      4.385910  20.850578  1.197934  0.998061         17   43.tif\n",
      "44      7.163579  19.623795  1.269130  0.999058         17   44.tif\n",
      "45      3.981700  21.016575  1.199309  0.997102         17   45.tif\n",
      "46      8.340659  15.964368  1.281426  0.996160         17   46.tif\n",
      "47      8.732927  17.416146  1.281910  0.998437         17   47.tif\n",
      "48      5.821597  20.021596  1.251150  0.998695         17   48.tif\n",
      "49      5.726504  20.143988  1.270421  0.999144         17   49.tif\n",
      "50      7.749853  16.689112  1.277039  0.997556         17   50.tif\n",
      "51     10.756341  27.315265  1.407922  0.999432         17   51.tif\n",
      "52      1.007468  30.235507  1.235224  0.990692         15   52.tif\n",
      "53      2.571039  24.329592  1.225299  0.999079         18   53.tif\n",
      "54      3.135880  17.799336  1.292644  0.999071         18   54.tif\n",
      "55      2.766189  21.156275  1.234771  0.999099         18   55.tif\n",
      "56      2.205431  17.329726  1.314415  0.998880         18   56.tif\n",
      "57      2.220456  19.453294  1.256554  0.999190         18   57.tif\n",
      "58      3.173915  16.109134  1.326089  0.999199         18   58.tif\n",
      "59      3.275427  20.755613  1.264770  0.999109         18   59.tif\n",
      "60      3.782172  16.488657  1.274944  0.997922         18   60.tif\n",
      "61      2.538357  18.426224  1.277699  0.997563         18   61.tif\n"
     ]
    }
   ],
   "source": [
    "# Load and inspect the targets.\n",
    "targets = Path(\"../data/targets.csv\")\n",
    "df = pd.read_csv(targets, index_col=\"index\")\n",
    "df[\"filename\"] = [str(index) + \".tif\" for index in df.index]\n",
    "print(df)"
   ]
  },
  {
   "cell_type": "code",
   "execution_count": 54,
   "metadata": {},
   "outputs": [],
   "source": [
    "# Split the full dataset in train and test.\n",
    "train, test = train_test_split(df, random_state=42)\n",
    "test.to_csv(f\"../data/splits/test.csv\")"
   ]
  },
  {
   "cell_type": "code",
   "execution_count": 55,
   "metadata": {},
   "outputs": [],
   "source": [
    "# Split the train dataset into train and validation for cross-validation.\n",
    "kf = KFold(n_splits=5, shuffle=True, random_state=42)\n",
    "for fold, (train_idx, val_idx) in enumerate(kf.split(train), 1):\n",
    "    train.iloc[train_idx].to_csv(f\"../data/splits/fold-{fold}-split-train.csv\")\n",
    "    train.iloc[val_idx].to_csv(f\"../data/splits/fold-{fold}-split-val.csv\")"
   ]
  },
  {
   "cell_type": "code",
   "execution_count": null,
   "metadata": {},
   "outputs": [],
   "source": []
  }
 ],
 "metadata": {
  "kernelspec": {
   "display_name": "skinstression",
   "language": "python",
   "name": "python3"
  },
  "language_info": {
   "codemirror_mode": {
    "name": "ipython",
    "version": 3
   },
   "file_extension": ".py",
   "mimetype": "text/x-python",
   "name": "python",
   "nbconvert_exporter": "python",
   "pygments_lexer": "ipython3",
   "version": "3.11.0"
  },
  "orig_nbformat": 4
 },
 "nbformat": 4,
 "nbformat_minor": 2
}
