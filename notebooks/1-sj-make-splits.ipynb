{
 "cells": [
  {
   "cell_type": "code",
   "execution_count": 9,
   "metadata": {},
   "outputs": [],
   "source": [
    "from pathlib import Path\n",
    "\n",
    "import pandas as pd\n",
    "from sklearn.model_selection import GroupShuffleSplit, GroupKFold"
   ]
  },
  {
   "cell_type": "markdown",
   "metadata": {},
   "source": [
    "See which files are present in the targets and list them"
   ]
  },
  {
   "cell_type": "code",
   "execution_count": 2,
   "metadata": {},
   "outputs": [
    {
     "data": {
      "text/plain": [
       "53"
      ]
     },
     "execution_count": 2,
     "metadata": {},
     "output_type": "execute_result"
    }
   ],
   "source": [
    "# Load and inspect the targets.\n",
    "targets = Path(\"../data/targets.csv\")\n",
    "df = pd.read_csv(targets)\n",
    "df[\"filename\"] = [str(index) + \".tif\" for index in df.index]\n",
    "filenames = list(str(fn.name) for fn in Path(\"../data/stacks\").glob(\"*.tif\"))  # Make sure the image is there!\n",
    "df = df[df[\"filename\"].isin(filenames)]\n",
    "len(df)"
   ]
  },
  {
   "cell_type": "markdown",
   "metadata": {},
   "source": [
    "First, shuffle the dataset and split the dataset in train and test, while making sure no person is in both the training and testing set."
   ]
  },
  {
   "cell_type": "code",
   "execution_count": 7,
   "metadata": {},
   "outputs": [],
   "source": [
    "# Split the full dataset in train and test.\n",
    "gss = GroupShuffleSplit(1)\n",
    "for split in gss.split(df[\"sample\"], groups=df[\"person_id\"]):\n",
    "    train, test = split\n",
    "    train_df = df[df[\"sample\"].isin(train)]\n",
    "    test_df = df[df[\"sample\"].isin(test)]\n",
    "    train_df.to_csv(\"../data/splits/train.csv\", index=False)\n",
    "    test_df.to_csv(\"../data/splits/test.csv\", index=False)"
   ]
  },
  {
   "cell_type": "markdown",
   "metadata": {},
   "source": [
    "Make cross validation splits, again making sure no person is in both the training and validation sets."
   ]
  },
  {
   "cell_type": "code",
   "execution_count": 17,
   "metadata": {},
   "outputs": [],
   "source": [
    "train_path = \"../data/splits/train.csv\"\n",
    "# Split the train dataset into train and validation for cross-validation.\n",
    "df = pd.read_csv(train_path)\n",
    "gkf = GroupKFold(5)\n",
    "for fold, split in enumerate(gkf.split(df[\"sample\"], groups=df[\"person_id\"])):\n",
    "    train, val = split\n",
    "    train_df = df[df[\"sample\"].isin(train)]\n",
    "    val_df = df[df[\"sample\"].isin(val)]\n",
    "    train_df.to_csv(f\"../data/splits/fold-{fold}-split-train.csv\", index=False)\n",
    "    val_df.to_csv(f\"../data/splits/fold-{fold}-split-val.csv\", index=False)"
   ]
  },
  {
   "cell_type": "code",
   "execution_count": null,
   "metadata": {},
   "outputs": [],
   "source": []
  }
 ],
 "metadata": {
  "kernelspec": {
   "display_name": "skinstression",
   "language": "python",
   "name": "python3"
  },
  "language_info": {
   "codemirror_mode": {
    "name": "ipython",
    "version": 3
   },
   "file_extension": ".py",
   "mimetype": "text/x-python",
   "name": "python",
   "nbconvert_exporter": "python",
   "pygments_lexer": "ipython3",
   "version": "3.11.7"
  },
  "orig_nbformat": 4
 },
 "nbformat": 4,
 "nbformat_minor": 2
}
