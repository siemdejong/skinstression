{
 "cells": [
  {
   "cell_type": "code",
   "execution_count": 29,
   "metadata": {},
   "outputs": [],
   "source": [
    "from pathlib import Path\n",
    "\n",
    "import pandas as pd\n",
    "from sklearn.model_selection import GroupShuffleSplit, GroupKFold"
   ]
  },
  {
   "cell_type": "markdown",
   "metadata": {},
   "source": [
    "See which files are present in the targets and list them"
   ]
  },
  {
   "cell_type": "code",
   "execution_count": 62,
   "metadata": {},
   "outputs": [
    {
     "name": "stdout",
     "output_type": "stream",
     "text": [
      "there are 51 eligible samples\n"
     ]
    }
   ],
   "source": [
    "# Load and inspect the targets.\n",
    "df_params = pd.read_csv(\"../data/params.csv\")\n",
    "df_persons = pd.read_csv(\"../data/sample_to_person.csv\")\n",
    "df = df_params.merge(df_persons, on=\"sample_id\")\n",
    "\n",
    "df[\"filename\"] = [str(index) + \".tif\" for index in df[\"sample_id\"]]\n",
    "filenames = list(str(fn.name) for fn in Path(\"../data/stacks\").glob(\"*.tif\"))  # Make sure the image is there!\n",
    "df = df[df[\"filename\"].isin(filenames)]\n",
    "print(f\"there are {len(df)} eligible samples\")"
   ]
  },
  {
   "cell_type": "markdown",
   "metadata": {},
   "source": [
    "First, shuffle the dataset and split the dataset in train and test, while making sure no person is in both the training and testing set."
   ]
  },
  {
   "cell_type": "code",
   "execution_count": 34,
   "metadata": {},
   "outputs": [],
   "source": [
    "# Split the full dataset in train and test.\n",
    "gss = GroupShuffleSplit(1, test_size=int(0.05 * len(df)), random_state=42)\n",
    "for split in gss.split(df[\"sample_id\"], groups=df[\"person_id\"]):\n",
    "    train, test = split\n",
    "    train_df = df[df[\"sample_id\"].isin(train)]\n",
    "    test_df = df[df[\"sample_id\"].isin(test)]\n",
    "    train_df.to_csv(\"../data/splits/train.csv\", index=False)\n",
    "    test_df.to_csv(\"../data/splits/test.csv\", index=False)"
   ]
  },
  {
   "cell_type": "markdown",
   "metadata": {},
   "source": [
    "Make cross validation splits, again making sure no person is in both the training and validation sets."
   ]
  },
  {
   "cell_type": "code",
   "execution_count": 35,
   "metadata": {},
   "outputs": [],
   "source": [
    "train_path = \"../data/splits/train.csv\"\n",
    "# Split the train dataset into train and validation for cross-validation.\n",
    "df = pd.read_csv(train_path)\n",
    "gkf = GroupKFold(3)\n",
    "for fold, split in enumerate(gkf.split(df[\"sample_id\"], groups=df[\"person_id\"])):\n",
    "    train, val = split\n",
    "    train_df = df[df[\"sample_id\"].isin(train)]\n",
    "    val_df = df[df[\"sample_id\"].isin(val)]\n",
    "    train_df.to_csv(f\"../data/splits/fold-{fold}-split-train.csv\", index=False)\n",
    "    val_df.to_csv(f\"../data/splits/fold-{fold}-split-val.csv\", index=False)"
   ]
  },
  {
   "cell_type": "code",
   "execution_count": 6,
   "metadata": {},
   "outputs": [],
   "source": [
    "# TODO: as in 10-sj-preprocess.ipynb, make plots of the distribution of the samples into folds."
   ]
  },
  {
   "cell_type": "code",
   "execution_count": 63,
   "metadata": {},
   "outputs": [
    {
     "data": {
      "text/plain": [
       "array([[ 3.30971613, 28.96359874,  1.20185066],\n",
       "       [ 5.88107624, 24.94981488,  1.17793236],\n",
       "       [ 3.66373522, 21.9629815 ,  1.26584654],\n",
       "       [ 2.42745287, 17.7658721 ,  1.28946096],\n",
       "       [ 3.14678712, 46.67170878,  1.40218732],\n",
       "       [ 4.10505452, 29.31514811,  1.32206248],\n",
       "       [ 3.48449005, 24.49080838,  1.2175642 ],\n",
       "       [ 3.30196127, 23.38083588,  1.23564071],\n",
       "       [ 2.95022377, 21.6432568 ,  1.22797869],\n",
       "       [ 3.32131185, 20.25453183,  1.24279591],\n",
       "       [ 1.5499594 , 19.87204168,  1.30100379],\n",
       "       [ 2.56055668, 30.44839372,  1.31593115],\n",
       "       [ 4.73983948, 21.27736641,  1.23834535],\n",
       "       [ 3.5970366 , 20.82117566,  1.2267107 ],\n",
       "       [ 1.7854561 , 21.7919852 ,  1.23368762],\n",
       "       [ 3.79041797, 22.27355876,  1.27490985],\n",
       "       [ 0.77196126, 31.14547501,  1.26364692],\n",
       "       [ 1.22452766, 30.05749807,  1.1664169 ],\n",
       "       [ 0.86433824, 24.69739825,  1.1741678 ],\n",
       "       [ 1.95450038, 27.00940134,  1.18021803],\n",
       "       [ 1.3003575 , 28.84285736,  1.1971531 ],\n",
       "       [ 0.41447424, 32.77714772,  1.16175162],\n",
       "       [ 0.47334989, 29.27269836,  1.1790328 ],\n",
       "       [ 0.5537633 , 81.78881377,  1.2646947 ],\n",
       "       [ 0.42295969, 27.67963663,  1.16182961],\n",
       "       [ 0.31688029, 31.40343929,  1.16008755],\n",
       "       [ 0.38134242, 27.05313488,  1.1691862 ],\n",
       "       [ 0.41838061, 27.76436289,  1.16084303],\n",
       "       [ 3.81469879, 22.90397478,  1.21774181],\n",
       "       [ 3.48598793, 39.7891409 ,  1.17091117],\n",
       "       [10.05513089, 16.92341643,  1.36711246],\n",
       "       [ 6.35045975, 16.47766992,  1.26356157],\n",
       "       [ 4.38591213, 20.85055381,  1.19793373],\n",
       "       [ 7.16358037, 19.62378149,  1.26913023],\n",
       "       [ 3.98169997, 21.01658934,  1.19930855],\n",
       "       [ 5.82159774, 20.02158778,  1.25115048],\n",
       "       [ 5.72650583, 20.14397061,  1.27042108],\n",
       "       [10.75633589, 27.31528539,  1.40792165],\n",
       "       [ 1.00746744, 30.23551841,  1.23522365],\n",
       "       [ 2.57103963, 24.32957064,  1.22529922],\n",
       "       [ 3.13587955, 17.79933581,  1.29264386],\n",
       "       [ 2.76618909, 21.15626635,  1.234771  ],\n",
       "       [ 2.20543142, 17.32971689,  1.31441525],\n",
       "       [ 2.22045641, 19.4532845 ,  1.25655448],\n",
       "       [ 3.1739148 , 16.10913278,  1.32608936],\n",
       "       [ 3.27542585, 20.75563052,  1.26476992],\n",
       "       [11.90690313, 23.35863695,  1.34353413],\n",
       "       [ 3.78217276, 16.48863809,  1.27494355],\n",
       "       [ 2.53835672, 18.42622304,  1.27769882],\n",
       "       [ 4.64227692, 23.51395364,  1.47274056],\n",
       "       [ 7.87242412, 19.62572336,  1.32991848]])"
      ]
     },
     "execution_count": 63,
     "metadata": {},
     "output_type": "execute_result"
    }
   ],
   "source": [
    "df.columns = map(str.lower, df.columns)\n",
    "df[map(str.lower, [\"A\", \"k\", \"xc\"])].to_numpy()"
   ]
  },
  {
   "cell_type": "code",
   "execution_count": 55,
   "metadata": {},
   "outputs": [
    {
     "data": {
      "text/plain": [
       "array([[ 3.30971613, 28.96359874,  1.20185066],\n",
       "       [ 5.88107624, 24.94981488,  1.17793236],\n",
       "       [ 4.10505452, 29.31514811,  1.32206248],\n",
       "       [ 3.48449005, 24.49080838,  1.2175642 ],\n",
       "       [ 3.30196127, 23.38083588,  1.23564071],\n",
       "       [ 2.95022377, 21.6432568 ,  1.22797869],\n",
       "       [ 3.32131185, 20.25453183,  1.24279591],\n",
       "       [ 1.5499594 , 19.87204168,  1.30100379],\n",
       "       [ 2.56055668, 30.44839372,  1.31593115],\n",
       "       [ 4.73983948, 21.27736641,  1.23834535],\n",
       "       [ 3.5970366 , 20.82117566,  1.2267107 ],\n",
       "       [ 1.7854561 , 21.7919852 ,  1.23368762],\n",
       "       [ 3.79041797, 22.27355876,  1.27490985],\n",
       "       [ 0.77196126, 31.14547501,  1.26364692],\n",
       "       [ 3.81469879, 22.90397478,  1.21774181],\n",
       "       [ 3.48598793, 39.7891409 ,  1.17091117],\n",
       "       [10.05513089, 16.92341643,  1.36711246],\n",
       "       [ 6.35045975, 16.47766992,  1.26356157],\n",
       "       [ 4.38591213, 20.85055381,  1.19793373],\n",
       "       [ 7.16358037, 19.62378149,  1.26913023],\n",
       "       [ 3.98169997, 21.01658934,  1.19930855],\n",
       "       [ 5.82159774, 20.02158778,  1.25115048],\n",
       "       [ 5.72650583, 20.14397061,  1.27042108],\n",
       "       [11.90690313, 23.35863695,  1.34353413],\n",
       "       [ 4.64227692, 23.51395364,  1.47274056],\n",
       "       [ 7.87242412, 19.62572336,  1.32991848]])"
      ]
     },
     "execution_count": 55,
     "metadata": {},
     "output_type": "execute_result"
    }
   ],
   "source": []
  },
  {
   "cell_type": "code",
   "execution_count": 66,
   "metadata": {},
   "outputs": [],
   "source": [
    "gss = GroupShuffleSplit(1, test_size=int(0.05 * len(df)), random_state=42)\n",
    "for split in gss.split(df[\"sample_id\"], groups=df[\"person_id\"]):\n",
    "    super_train, test = split\n",
    "    super_train_df = df[df[\"sample_id\"].isin(super_train)]\n",
    "    test_df = df[df[\"sample_id\"].isin(test)]\n",
    "\n",
    "gss = GroupShuffleSplit(1, test_size=int(0.1 * len(super_train_df)), random_state=42)\n",
    "for split in gss.split(super_train_df[\"sample_id\"], groups=super_train_df[\"person_id\"]):\n",
    "    train, val = split\n",
    "    train_df = df[df[\"sample_id\"].isin(train)]\n",
    "    val_df = df[df[\"sample_id\"].isin(val)]"
   ]
  },
  {
   "cell_type": "code",
   "execution_count": 72,
   "metadata": {},
   "outputs": [
    {
     "data": {
      "text/html": [
       "<div>\n",
       "<style scoped>\n",
       "    .dataframe tbody tr th:only-of-type {\n",
       "        vertical-align: middle;\n",
       "    }\n",
       "\n",
       "    .dataframe tbody tr th {\n",
       "        vertical-align: top;\n",
       "    }\n",
       "\n",
       "    .dataframe thead th {\n",
       "        text-align: right;\n",
       "    }\n",
       "</style>\n",
       "<table border=\"1\" class=\"dataframe\">\n",
       "  <thead>\n",
       "    <tr style=\"text-align: right;\">\n",
       "      <th></th>\n",
       "      <th>a</th>\n",
       "      <th>k</th>\n",
       "      <th>xc</th>\n",
       "    </tr>\n",
       "  </thead>\n",
       "  <tbody>\n",
       "    <tr>\n",
       "      <th>2</th>\n",
       "      <td>3.663735</td>\n",
       "      <td>21.962982</td>\n",
       "      <td>1.265847</td>\n",
       "    </tr>\n",
       "    <tr>\n",
       "      <th>3</th>\n",
       "      <td>2.427453</td>\n",
       "      <td>17.765872</td>\n",
       "      <td>1.289461</td>\n",
       "    </tr>\n",
       "    <tr>\n",
       "      <th>4</th>\n",
       "      <td>3.146787</td>\n",
       "      <td>46.671709</td>\n",
       "      <td>1.402187</td>\n",
       "    </tr>\n",
       "    <tr>\n",
       "      <th>17</th>\n",
       "      <td>1.224528</td>\n",
       "      <td>30.057498</td>\n",
       "      <td>1.166417</td>\n",
       "    </tr>\n",
       "    <tr>\n",
       "      <th>18</th>\n",
       "      <td>0.864338</td>\n",
       "      <td>24.697398</td>\n",
       "      <td>1.174168</td>\n",
       "    </tr>\n",
       "    <tr>\n",
       "      <th>19</th>\n",
       "      <td>1.954500</td>\n",
       "      <td>27.009401</td>\n",
       "      <td>1.180218</td>\n",
       "    </tr>\n",
       "    <tr>\n",
       "      <th>20</th>\n",
       "      <td>1.300357</td>\n",
       "      <td>28.842857</td>\n",
       "      <td>1.197153</td>\n",
       "    </tr>\n",
       "    <tr>\n",
       "      <th>21</th>\n",
       "      <td>0.414474</td>\n",
       "      <td>32.777148</td>\n",
       "      <td>1.161752</td>\n",
       "    </tr>\n",
       "    <tr>\n",
       "      <th>22</th>\n",
       "      <td>0.473350</td>\n",
       "      <td>29.272698</td>\n",
       "      <td>1.179033</td>\n",
       "    </tr>\n",
       "    <tr>\n",
       "      <th>23</th>\n",
       "      <td>0.553763</td>\n",
       "      <td>81.788814</td>\n",
       "      <td>1.264695</td>\n",
       "    </tr>\n",
       "    <tr>\n",
       "      <th>24</th>\n",
       "      <td>0.422960</td>\n",
       "      <td>27.679637</td>\n",
       "      <td>1.161830</td>\n",
       "    </tr>\n",
       "    <tr>\n",
       "      <th>25</th>\n",
       "      <td>0.316880</td>\n",
       "      <td>31.403439</td>\n",
       "      <td>1.160088</td>\n",
       "    </tr>\n",
       "    <tr>\n",
       "      <th>26</th>\n",
       "      <td>0.381342</td>\n",
       "      <td>27.053135</td>\n",
       "      <td>1.169186</td>\n",
       "    </tr>\n",
       "    <tr>\n",
       "      <th>27</th>\n",
       "      <td>0.418381</td>\n",
       "      <td>27.764363</td>\n",
       "      <td>1.160843</td>\n",
       "    </tr>\n",
       "  </tbody>\n",
       "</table>\n",
       "</div>"
      ],
      "text/plain": [
       "           a          k        xc\n",
       "2   3.663735  21.962982  1.265847\n",
       "3   2.427453  17.765872  1.289461\n",
       "4   3.146787  46.671709  1.402187\n",
       "17  1.224528  30.057498  1.166417\n",
       "18  0.864338  24.697398  1.174168\n",
       "19  1.954500  27.009401  1.180218\n",
       "20  1.300357  28.842857  1.197153\n",
       "21  0.414474  32.777148  1.161752\n",
       "22  0.473350  29.272698  1.179033\n",
       "23  0.553763  81.788814  1.264695\n",
       "24  0.422960  27.679637  1.161830\n",
       "25  0.316880  31.403439  1.160088\n",
       "26  0.381342  27.053135  1.169186\n",
       "27  0.418381  27.764363  1.160843"
      ]
     },
     "execution_count": 72,
     "metadata": {},
     "output_type": "execute_result"
    }
   ],
   "source": [
    "test_df[[\"a\", \"k\", \"xc\"]]"
   ]
  },
  {
   "cell_type": "code",
   "execution_count": null,
   "metadata": {},
   "outputs": [],
   "source": []
  }
 ],
 "metadata": {
  "kernelspec": {
   "display_name": "skinstression",
   "language": "python",
   "name": "python3"
  },
  "language_info": {
   "codemirror_mode": {
    "name": "ipython",
    "version": 3
   },
   "file_extension": ".py",
   "mimetype": "text/x-python",
   "name": "python",
   "nbconvert_exporter": "python",
   "pygments_lexer": "ipython3",
   "version": "3.11.7"
  },
  "orig_nbformat": 4
 },
 "nbformat": 4,
 "nbformat_minor": 2
}
