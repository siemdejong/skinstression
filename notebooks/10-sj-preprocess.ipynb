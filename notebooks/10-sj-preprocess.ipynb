{
 "cells": [
  {
   "cell_type": "markdown",
   "metadata": {},
   "source": [
    "# Step 1: multipage tif to 3D arrays in HDF5.\n",
    "The images get in as multipage tiffs, where every page is a slice in the z-direction. I want to store all elements in a single h5 file"
   ]
  },
  {
   "cell_type": "code",
   "execution_count": 11,
   "metadata": {},
   "outputs": [],
   "source": [
    "import cv2\n",
    "import numpy as np\n",
    "import pandas as pd\n",
    "from pathlib import Path\n",
    "from scipy.optimize import curve_fit\n",
    "import h5torch"
   ]
  },
  {
   "cell_type": "code",
   "execution_count": 12,
   "metadata": {},
   "outputs": [],
   "source": [
    "stacks_path = Path(\"../data/stacks\")\n",
    "paths = list(stacks_path.glob(\"*.tif\"))"
   ]
  },
  {
   "cell_type": "code",
   "execution_count": 13,
   "metadata": {},
   "outputs": [],
   "source": [
    "def extract_images(path: Path):\n",
    "    \"\"\"Read all pages of a tif file and put them in an array (pages, y, x)\"\"\"\n",
    "    return np.array(cv2.imreadmulti(str(path))[1])"
   ]
  },
  {
   "cell_type": "code",
   "execution_count": 14,
   "metadata": {},
   "outputs": [],
   "source": [
    "def get_strain_and_stress(sample_id: int):\n",
    "    path = f\"../data/curves/{sample_id}.csv\"\n",
    "    df = pd.read_csv(path)\n",
    "    strain = df[\"strain\"].to_numpy()\n",
    "    stress = df[\"stress\"].to_numpy()\n",
    "    return np.stack([strain, stress])"
   ]
  },
  {
   "cell_type": "code",
   "execution_count": 15,
   "metadata": {},
   "outputs": [],
   "source": [
    "def get_person_id(sample_id: int):\n",
    "    path = \"../data/targets.csv\"\n",
    "    df = pd.read_csv(path)\n",
    "    return int(df[df[\"sample\"] == sample_id][\"person_id\"].iloc[0])\n"
   ]
  },
  {
   "cell_type": "code",
   "execution_count": 16,
   "metadata": {},
   "outputs": [],
   "source": [
    "def logistic(x, a, k, xc):\n",
    "    return a / (1 + np.exp(-k * (x - xc)))"
   ]
  },
  {
   "cell_type": "code",
   "execution_count": 17,
   "metadata": {},
   "outputs": [],
   "source": [
    "def fit_fun_to_data(fun, x, y):\n",
    "    popt, _ = curve_fit(fun, x, y, maxfev=10000)\n",
    "    return popt"
   ]
  },
  {
   "cell_type": "code",
   "execution_count": 18,
   "metadata": {},
   "outputs": [
    {
     "name": "stderr",
     "output_type": "stream",
     "text": [
      "C:\\Users\\z405155\\AppData\\Local\\Temp\\ipykernel_13024\\388091049.py:2: RuntimeWarning: overflow encountered in exp\n",
      "  return a / (1 + np.exp(-k * (x - xc)))\n",
      "C:\\Users\\z405155\\AppData\\Local\\Temp\\ipykernel_13024\\388091049.py:2: RuntimeWarning: overflow encountered in exp\n",
      "  return a / (1 + np.exp(-k * (x - xc)))\n",
      "C:\\Users\\z405155\\AppData\\Local\\Temp\\ipykernel_13024\\388091049.py:2: RuntimeWarning: overflow encountered in exp\n",
      "  return a / (1 + np.exp(-k * (x - xc)))\n",
      "c:\\Users\\z405155\\AppData\\Local\\miniforge3\\envs\\skinstression\\Lib\\site-packages\\scipy\\optimize\\_minpack_py.py:1010: OptimizeWarning: Covariance of the parameters could not be estimated\n",
      "  warnings.warn('Covariance of the parameters could not be estimated',\n",
      "C:\\Users\\z405155\\AppData\\Local\\Temp\\ipykernel_13024\\388091049.py:2: RuntimeWarning: overflow encountered in exp\n",
      "  return a / (1 + np.exp(-k * (x - xc)))\n",
      "C:\\Users\\z405155\\AppData\\Local\\Temp\\ipykernel_13024\\388091049.py:2: RuntimeWarning: overflow encountered in exp\n",
      "  return a / (1 + np.exp(-k * (x - xc)))\n",
      "C:\\Users\\z405155\\AppData\\Local\\Temp\\ipykernel_13024\\388091049.py:2: RuntimeWarning: overflow encountered in exp\n",
      "  return a / (1 + np.exp(-k * (x - xc)))\n",
      "C:\\Users\\z405155\\AppData\\Local\\Temp\\ipykernel_13024\\388091049.py:2: RuntimeWarning: overflow encountered in exp\n",
      "  return a / (1 + np.exp(-k * (x - xc)))\n",
      "C:\\Users\\z405155\\AppData\\Local\\Temp\\ipykernel_13024\\388091049.py:2: RuntimeWarning: overflow encountered in exp\n",
      "  return a / (1 + np.exp(-k * (x - xc)))\n",
      "C:\\Users\\z405155\\AppData\\Local\\Temp\\ipykernel_13024\\388091049.py:2: RuntimeWarning: overflow encountered in exp\n",
      "  return a / (1 + np.exp(-k * (x - xc)))\n",
      "C:\\Users\\z405155\\AppData\\Local\\Temp\\ipykernel_13024\\388091049.py:2: RuntimeWarning: overflow encountered in exp\n",
      "  return a / (1 + np.exp(-k * (x - xc)))\n",
      "C:\\Users\\z405155\\AppData\\Local\\Temp\\ipykernel_13024\\388091049.py:2: RuntimeWarning: overflow encountered in exp\n",
      "  return a / (1 + np.exp(-k * (x - xc)))\n",
      "C:\\Users\\z405155\\AppData\\Local\\Temp\\ipykernel_13024\\388091049.py:2: RuntimeWarning: overflow encountered in exp\n",
      "  return a / (1 + np.exp(-k * (x - xc)))\n",
      "c:\\Users\\z405155\\AppData\\Local\\miniforge3\\envs\\skinstression\\Lib\\site-packages\\scipy\\optimize\\_minpack_py.py:1010: OptimizeWarning: Covariance of the parameters could not be estimated\n",
      "  warnings.warn('Covariance of the parameters could not be estimated',\n",
      "C:\\Users\\z405155\\AppData\\Local\\Temp\\ipykernel_13024\\388091049.py:2: RuntimeWarning: overflow encountered in exp\n",
      "  return a / (1 + np.exp(-k * (x - xc)))\n",
      "c:\\Users\\z405155\\AppData\\Local\\miniforge3\\envs\\skinstression\\Lib\\site-packages\\scipy\\optimize\\_minpack_py.py:1010: OptimizeWarning: Covariance of the parameters could not be estimated\n",
      "  warnings.warn('Covariance of the parameters could not be estimated',\n",
      "C:\\Users\\z405155\\AppData\\Local\\Temp\\ipykernel_13024\\388091049.py:2: RuntimeWarning: overflow encountered in exp\n",
      "  return a / (1 + np.exp(-k * (x - xc)))\n",
      "C:\\Users\\z405155\\AppData\\Local\\Temp\\ipykernel_13024\\388091049.py:2: RuntimeWarning: overflow encountered in exp\n",
      "  return a / (1 + np.exp(-k * (x - xc)))\n",
      "C:\\Users\\z405155\\AppData\\Local\\Temp\\ipykernel_13024\\388091049.py:2: RuntimeWarning: overflow encountered in exp\n",
      "  return a / (1 + np.exp(-k * (x - xc)))\n",
      "c:\\Users\\z405155\\AppData\\Local\\miniforge3\\envs\\skinstression\\Lib\\site-packages\\scipy\\optimize\\_minpack_py.py:1010: OptimizeWarning: Covariance of the parameters could not be estimated\n",
      "  warnings.warn('Covariance of the parameters could not be estimated',\n",
      "C:\\Users\\z405155\\AppData\\Local\\Temp\\ipykernel_13024\\388091049.py:2: RuntimeWarning: overflow encountered in exp\n",
      "  return a / (1 + np.exp(-k * (x - xc)))\n",
      "C:\\Users\\z405155\\AppData\\Local\\Temp\\ipykernel_13024\\388091049.py:2: RuntimeWarning: overflow encountered in exp\n",
      "  return a / (1 + np.exp(-k * (x - xc)))\n",
      "C:\\Users\\z405155\\AppData\\Local\\Temp\\ipykernel_13024\\388091049.py:2: RuntimeWarning: overflow encountered in exp\n",
      "  return a / (1 + np.exp(-k * (x - xc)))\n"
     ]
    }
   ],
   "source": [
    "out_path = \"../data/stacks.h5t\"\n",
    "images = []\n",
    "sample_ids = []\n",
    "person_ids = []\n",
    "strains, stresses = [], []\n",
    "As, ks, xcs = [], [], []\n",
    "for path in paths:\n",
    "    try:\n",
    "        sample_id = int(path.stem)\n",
    "        person_id = get_person_id(sample_id)\n",
    "        img = extract_images(path)\n",
    "        strain, stress = get_strain_and_stress(sample_id)\n",
    "        a, k, xc = fit_fun_to_data(logistic, strain, stress)\n",
    "    except (FileNotFoundError, IndexError):\n",
    "        continue\n",
    "    else:\n",
    "        sample_ids.append(sample_id)\n",
    "        person_ids.append(person_id)\n",
    "        images.append(img)\n",
    "        strains.append(strain)\n",
    "        stresses.append(stress)\n",
    "        As.append(a)\n",
    "        ks.append(k)\n",
    "        xcs.append(xc)\n",
    "    \n",
    "    # if len(As) > 1:\n",
    "    #     break\n",
    "\n",
    "f =  h5torch.File(out_path, \"w\")\n",
    "f.register(images, \"central\", mode=\"separate\")\n",
    "f.register(np.array(sample_ids, dtype=np.uint8), 0, name=\"sample_id\")\n",
    "f.register(np.array(person_ids, dtype=np.uint8), 0, name=\"person_id\")\n",
    "f.register(strains, 0, name=\"strain\", mode=\"separate\")\n",
    "f.register(stresses, 0, name=\"stress\", mode=\"separate\")\n",
    "As = np.array(As)\n",
    "ks = np.array(ks)\n",
    "xcs = np.array(xcs)\n",
    "f.register(As, 0, name=\"a\")\n",
    "f.register(ks, 0, name=\"k\")\n",
    "f.register(xcs, 0, name=\"xc\")\n",
    "f.close()"
   ]
  },
  {
   "cell_type": "code",
   "execution_count": 6,
   "metadata": {},
   "outputs": [
    {
     "data": {
      "text/plain": [
       "dict_keys(['central', '0/a', '0/k', '0/person_id', '0/sample_id', '0/strain', '0/stress', '0/xc'])"
      ]
     },
     "execution_count": 6,
     "metadata": {},
     "output_type": "execute_result"
    }
   ],
   "source": [
    "out_path = \"../data/stacks.h5t\"\n",
    "dataset = h5torch.Dataset(out_path)\n",
    "dataset[0].keys()"
   ]
  },
  {
   "cell_type": "markdown",
   "metadata": {},
   "source": [
    "The HDF5 file has the following structure to be read with h5torch:\n",
    "```json\n",
    "[\n",
    "    { (for every sample a dataset)\n",
    "        \"central\": array with images images (uint8),\n",
    "        \"0/sample_id\": uint8,\n",
    "        ... # See keys of output\n",
    "    },\n",
    "    ...\n",
    "]\n",
    "```"
   ]
  },
  {
   "cell_type": "markdown",
   "metadata": {},
   "source": [
    "# Step 2: Make splits"
   ]
  },
  {
   "cell_type": "code",
   "execution_count": 48,
   "metadata": {},
   "outputs": [],
   "source": [
    "from sklearn.model_selection import GroupShuffleSplit, GroupKFold, GroupKFold"
   ]
  },
  {
   "cell_type": "code",
   "execution_count": 80,
   "metadata": {},
   "outputs": [
    {
     "name": "stdout",
     "output_type": "stream",
     "text": [
      "(array([ 0,  1,  2,  3,  4,  5,  6,  7,  8,  9, 10, 11, 12, 26, 27, 28, 29,\n",
      "       30, 31, 32, 33, 34, 35, 36, 37]), array([13, 14, 15, 16, 17, 18, 19, 20, 21, 22, 23, 24, 25]))\n"
     ]
    }
   ],
   "source": [
    "gss = GroupShuffleSplit(1, random_state=42)\n",
    "gkf = GroupKFold(5)\n",
    "dataset = h5torch.Dataset(out_path)\n",
    "train_super_idx, test_idx = next(gss.split(dataset.indices, groups=[sample[\"0/person_id\"] for sample in dataset]))\n",
    "dataset.close()\n",
    "dataset = h5torch.Dataset(out_path, subset=train_super_idx)\n",
    "k = 0\n",
    "list(gkf.split(dataset.indices, groups=[sample[\"0/person_id\"] for sample in dataset]))[k]\n",
    "# for train_idx, val_idx in gkf.split(dataset.indices, groups=[sample[\"0/person_id\"] for sample in dataset]):\n",
    "    # print(train_idx, val_idx)\n",
    "dataset.close()"
   ]
  },
  {
   "cell_type": "code",
   "execution_count": 81,
   "metadata": {},
   "outputs": [],
   "source": [
    "def plot_cv_indices(cv, X, y, group, ax, n_splits, lw=10):\n",
    "    \"\"\"Create a sample plot for indices of a cross-validation object.\"\"\"\n",
    "    import matplotlib.pyplot as plt\n",
    "    # Generate the training/testing visualizations for each CV split\n",
    "    for ii, (tr, tt) in enumerate(cv.split(X=X, y=y, groups=group)):\n",
    "        # Fill in indices with the training/test groups\n",
    "        indices = np.array([np.nan] * len(X))\n",
    "        indices[tt] = 1\n",
    "        indices[tr] = 0\n",
    "\n",
    "        cmap_cv = plt.cm.coolwarm\n",
    "\n",
    "        # Visualize the results\n",
    "        ax.scatter(\n",
    "            range(len(indices)),\n",
    "            [ii + 0.5] * len(indices),\n",
    "            c=indices,\n",
    "            marker=\"_\",\n",
    "            lw=lw,\n",
    "            cmap=cmap_cv,\n",
    "            vmin=-0.2,\n",
    "            vmax=1.2,\n",
    "        )\n",
    "\n",
    "    # Plot the data classes and groups at the end\n",
    "    cmap_data = plt.cm.Paired\n",
    "\n",
    "    ax.scatter(\n",
    "        range(len(X)), [ii + 1.5] * len(X), c=group, marker=\"_\", lw=lw, cmap=cmap_data\n",
    "    )\n",
    "\n",
    "    # Formatting\n",
    "    yticklabels = list(range(n_splits)) + [\"group\"]\n",
    "    ax.set(\n",
    "        yticks=np.arange(n_splits + 1) + 0.5,\n",
    "        yticklabels=yticklabels,\n",
    "        xlabel=\"Sample index\",\n",
    "        ylabel=\"CV iteration\",\n",
    "        ylim=[n_splits + 1.2, -0.2],\n",
    "        xlim=[0, len(y)],\n",
    "    )\n",
    "    ax.set_title(\"{}\".format(type(cv).__name__), fontsize=15)\n",
    "    return ax"
   ]
  },
  {
   "cell_type": "code",
   "execution_count": 68,
   "metadata": {},
   "outputs": [
    {
     "data": {
      "text/plain": [
       "<Axes: title={'center': 'GroupKFold'}, xlabel='Sample index', ylabel='CV iteration'>"
      ]
     },
     "execution_count": 68,
     "metadata": {},
     "output_type": "execute_result"
    },
    {
     "data": {
      "image/png": "[encoded data removed]",
      "text/plain": [
       "<Figure size 640x480 with 1 Axes>"
      ]
     },
     "metadata": {},
     "output_type": "display_data"
    }
   ],
   "source": [
    "import matplotlib.pyplot as plt\n",
    "cmap_cv = plt.cm.coolwarm\n",
    "from matplotlib.patches import Patch\n",
    "fig, ax = plt.subplots()\n",
    "dataset = h5torch.Dataset(out_path, subset=train_super_idx)\n",
    "ax.legend(\n",
    "    [Patch(color=cmap_cv(0.8)), Patch(color=cmap_cv(0.02))],\n",
    "    [\"Testing set\", \"Training set\"],\n",
    "    loc=(1.02, 0.8),\n",
    ")\n",
    "# Make the legend fit\n",
    "plt.tight_layout()\n",
    "fig.subplots_adjust(right=0.7)\n",
    "plot_cv_indices(gkf, dataset.indices, dataset.indices, [sample[\"0/person_id\"] for sample in dataset], ax, 5)"
   ]
  },
  {
   "cell_type": "code",
   "execution_count": null,
   "metadata": {},
   "outputs": [],
   "source": []
  }
 ],
 "metadata": {
  "kernelspec": {
   "display_name": "Python 3",
   "language": "python",
   "name": "python3"
  },
  "language_info": {
   "codemirror_mode": {
    "name": "ipython",
    "version": 3
   },
   "file_extension": ".py",
   "mimetype": "text/x-python",
   "name": "python",
   "nbconvert_exporter": "python",
   "pygments_lexer": "ipython3",
   "version": "3.11.7"
  }
 },
 "nbformat": 4,
 "nbformat_minor": 2
}
