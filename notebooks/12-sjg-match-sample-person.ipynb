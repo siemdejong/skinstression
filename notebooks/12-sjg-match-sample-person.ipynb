{
 "cells": [
  {
   "cell_type": "code",
   "execution_count": 1,
   "metadata": {},
   "outputs": [],
   "source": [
    "import pandas as pd"
   ]
  },
  {
   "cell_type": "code",
   "execution_count": 2,
   "metadata": {},
   "outputs": [],
   "source": [
    "file = \"../data/SSCURVES.xlsx\"\n",
    "xls = pd.ExcelFile(file)"
   ]
  },
  {
   "cell_type": "code",
   "execution_count": 4,
   "metadata": {},
   "outputs": [
    {
     "name": "stdout",
     "output_type": "stream",
     "text": [
      "No person id information found for 62\n",
      "No person id information found for 555\n",
      "    sample_id person_id\n",
      "0           1         1\n",
      "1           2         1\n",
      "2           3         2\n",
      "3           4         2\n",
      "4           5         3\n",
      "..        ...       ...\n",
      "56         57        18\n",
      "57         58        18\n",
      "58         59        18\n",
      "59         60        18\n",
      "60         61        18\n",
      "\n",
      "[61 rows x 2 columns]\n"
     ]
    }
   ],
   "source": [
    "person_ids = []\n",
    "sample_ids = []\n",
    "for sheet in xls.sheet_names:\n",
    "    df = pd.read_excel(file, sheet_name=sheet)\n",
    "\n",
    "    try:\n",
    "        person_id = str(int(df['id'].iloc[0]))\n",
    "    except KeyError:\n",
    "        print(f\"No person id information found for {sheet}\")\n",
    "        continue\n",
    "\n",
    "    person_ids.append(person_id)\n",
    "    sample_ids.append(int(sheet))\n",
    "\n",
    "df_match_sample_person = pd.DataFrame({\"sample_id\": sample_ids, \"person_id\": person_ids})\n",
    "print(df_match_sample_person)"
   ]
  },
  {
   "cell_type": "code",
   "execution_count": 6,
   "metadata": {},
   "outputs": [],
   "source": [
    "df_match_sample_person.to_csv(\"outputs/match_sample_person.csv\", index=False) # We have our own indices."
   ]
  },
  {
   "cell_type": "code",
   "execution_count": null,
   "metadata": {},
   "outputs": [],
   "source": []
  }
 ],
 "metadata": {
  "kernelspec": {
   "display_name": "Python 3.9.13 ('stress-strain': conda)",
   "language": "python",
   "name": "python3"
  },
  "language_info": {
   "codemirror_mode": {
    "name": "ipython",
    "version": 3
   },
   "file_extension": ".py",
   "mimetype": "text/x-python",
   "name": "python",
   "nbconvert_exporter": "python",
   "pygments_lexer": "ipython3",
   "version": "3.9.13"
  },
  "orig_nbformat": 4,
  "vscode": {
   "interpreter": {
    "hash": "4fd9d29be4be53d2a8266d7710f981b13e49e93ff435830c894f457b625c5065"
   }
  }
 },
 "nbformat": 4,
 "nbformat_minor": 2
}
