{
 "cells": [
  {
   "cell_type": "code",
   "execution_count": 6,
   "metadata": {},
   "outputs": [],
   "source": [
    "import sys\n",
    "import os\n",
    "sys.path.insert(0, \"/scistor/guest/sjg203/projects/shg-strain-stress/\")\n",
    "import pandas as pd\n",
    "from pathlib import Path\n",
    "from PIL import Image\n",
    "from src.ds.dataset import THGStrainStressDataset\n",
    "from torch.utils.data import DataLoader\n",
    "from torchvision.transforms import Grayscale, Compose, ToTensor"
   ]
  },
  {
   "cell_type": "code",
   "execution_count": 3,
   "metadata": {},
   "outputs": [],
   "source": [
    "data_path = '../data/z-stacks/'\n",
    "targets_path = '../data/z-stacks/sigmoid_labels.csv'"
   ]
  },
  {
   "cell_type": "code",
   "execution_count": 17,
   "metadata": {},
   "outputs": [
    {
     "name": "stdout",
     "output_type": "stream",
     "text": [
      "../data/z-stacks/7 will be excluded because it is not found.\n",
      "torch.Size([1, 500, 500])\n",
      "../data/z-stacks/62 will be excluded because it is not found.\n",
      "../data/z-stacks/555 will be excluded because it is not found.\n"
     ]
    }
   ],
   "source": [
    "for _, labels in pd.read_csv(targets_path).iterrows():\n",
    "\n",
    "    folder = int(labels[\"index\"])\n",
    "    targets = labels[[\"A\", \"h\", \"slope\", \"C\"]].to_numpy(dtype=float)\n",
    "\n",
    "    if not (Path(data_path) / str(folder)).is_dir():\n",
    "        print(\n",
    "            f\"{Path(data_path) / str(folder)} will be excluded \"\n",
    "            f\"because it is not found.\"\n",
    "        )\n",
    "        continue\n",
    "\n",
    "    dataset = THGStrainStressDataset(\n",
    "        root_data_dir=data_path,\n",
    "        folder=folder,\n",
    "        targets=targets,\n",
    "        data_transform=Compose([\n",
    "            Grayscale(),\n",
    "            ToTensor(),\n",
    "        ])\n",
    "    )\n",
    "\n",
    "    if not dataset[0][0].shape == (1, 1000, 1000):\n",
    "        print(dataset[0][0].shape, labels['index'])"
   ]
  },
  {
   "cell_type": "code",
   "execution_count": null,
   "metadata": {},
   "outputs": [],
   "source": []
  }
 ],
 "metadata": {
  "kernelspec": {
   "display_name": "Python 3.9.13 ('stress-strain': conda)",
   "language": "python",
   "name": "python3"
  },
  "language_info": {
   "codemirror_mode": {
    "name": "ipython",
    "version": 3
   },
   "file_extension": ".py",
   "mimetype": "text/x-python",
   "name": "python",
   "nbconvert_exporter": "python",
   "pygments_lexer": "ipython3",
   "version": "3.9.13"
  },
  "orig_nbformat": 4,
  "vscode": {
   "interpreter": {
    "hash": "4fd9d29be4be53d2a8266d7710f981b13e49e93ff435830c894f457b625c5065"
   }
  }
 },
 "nbformat": 4,
 "nbformat_minor": 2
}
