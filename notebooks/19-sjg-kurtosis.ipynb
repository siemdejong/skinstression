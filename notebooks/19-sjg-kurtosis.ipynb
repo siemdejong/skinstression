{
 "cells": [
  {
   "cell_type": "code",
   "execution_count": 73,
   "metadata": {},
   "outputs": [],
   "source": [
    "import numpy as np\n",
    "from scipy.stats import kurtosis\n",
    "from scipy.fft import fft2, fftshift\n",
    "from PIL import Image\n",
    "import matplotlib.pyplot as plt\n",
    "from glob import glob\n",
    "from tqdm.contrib import tenumerate"
   ]
  },
  {
   "cell_type": "code",
   "execution_count": 74,
   "metadata": {},
   "outputs": [],
   "source": [
    "def calc_2D_spectrum(img):\n",
    "    img_fft = np.abs(fftshift(fft2(img, workers=10))) ** 2\n",
    "    return img_fft\n",
    "\n",
    "def brightness_corr(img):\n",
    "    \"\"\"Normalize the power spectrum to account for image-to-image brightness variation.\"\"\"\n",
    "    img_brightness_corr = img / np.mean(img) / img.size\n",
    "    return img_brightness_corr\n",
    "\n",
    "def calc_1D_spectrum_from_2D_spectrum(img):\n",
    "    \"\"\"Create 1D spectrum from 2D spectrum\"\"\"\n",
    "\n",
    "    # Sum the sums of the columns and the rows.\n",
    "    summed_spectrum = np.zeros(img.shape[0])\n",
    "    column_sum = np.sum(img, axis=0)\n",
    "    row_sum = np.sum(img, axis=1)\n",
    "    summed_spectrum = column_sum + row_sum\n",
    "\n",
    "    # \"... and then adding corresponding 'negative' frequencies to the\n",
    "    # 'positive' ones. This results in a N/2+1 1D array.\"\n",
    "    spectrum_mid_idx = len(summed_spectrum) // 2\n",
    "    summed_spectrum_pos = summed_spectrum[spectrum_mid_idx:] + np.flip(summed_spectrum[:spectrum_mid_idx])\n",
    "    return summed_spectrum_pos"
   ]
  },
  {
   "cell_type": "code",
   "execution_count": 81,
   "metadata": {},
   "outputs": [],
   "source": [
    "def select_channel(img, channel=0):\n",
    "    try:\n",
    "        return img[:, :, channel]\n",
    "    except IndexError:\n",
    "        return img"
   ]
  },
  {
   "cell_type": "code",
   "execution_count": 89,
   "metadata": {},
   "outputs": [],
   "source": [
    "def calc_spectra_of_stack(directory: str):\n",
    "    img_paths = glob(f\"{directory}/*.bmp\")\n",
    "\n",
    "    all_spectra = np.zeros((len(img_paths), 500))\n",
    "    for i, img_path in tenumerate(img_paths):\n",
    "        img_pil = Image.open(img_path)\n",
    "        img_arr = np.asarray(img_pil)\n",
    "        img = select_channel(img_arr)\n",
    "\n",
    "        spectrum_2d = calc_2D_spectrum(img)\n",
    "        spectrum_2d_corr = brightness_corr(spectrum_2d)\n",
    "        spectrum_1d = calc_1D_spectrum_from_2D_spectrum(spectrum_2d_corr)\n",
    "\n",
    "        all_spectra[i] = spectrum_1d\n",
    "    \n",
    "    return all_spectra"
   ]
  },
  {
   "cell_type": "code",
   "execution_count": 90,
   "metadata": {},
   "outputs": [
    {
     "data": {
      "application/vnd.jupyter.widget-view+json": {
       "model_id": "17fd9a309fc244e4890c322116c5c4e0",
       "version_major": 2,
       "version_minor": 0
      },
      "text/plain": [
       "  0%|          | 0/31 [00:00<?, ?it/s]"
      ]
     },
     "metadata": {},
     "output_type": "display_data"
    },
    {
     "data": {
      "image/png": "[encoded data removed]",
      "text/plain": [
       "<Figure size 640x480 with 1 Axes>"
      ]
     },
     "metadata": {},
     "output_type": "display_data"
    }
   ],
   "source": [
    "directory = \"../data/preprocessed/z-stacks/24\"\n",
    "plt.plot(calc_spectra_of_stack(directory).T)\n",
    "plt.show()"
   ]
  },
  {
   "cell_type": "code",
   "execution_count": null,
   "metadata": {},
   "outputs": [],
   "source": []
  }
 ],
 "metadata": {
  "kernelspec": {
   "display_name": "Python 3.9.13 ('stress-strain': conda)",
   "language": "python",
   "name": "python3"
  },
  "language_info": {
   "codemirror_mode": {
    "name": "ipython",
    "version": 3
   },
   "file_extension": ".py",
   "mimetype": "text/x-python",
   "name": "python",
   "nbconvert_exporter": "python",
   "pygments_lexer": "ipython3",
   "version": "3.9.13"
  },
  "orig_nbformat": 4,
  "vscode": {
   "interpreter": {
    "hash": "4fd9d29be4be53d2a8266d7710f981b13e49e93ff435830c894f457b625c5065"
   }
  }
 },
 "nbformat": 4,
 "nbformat_minor": 2
}
