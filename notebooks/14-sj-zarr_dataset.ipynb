{
 "cells": [
  {
   "cell_type": "code",
   "execution_count": 20,
   "metadata": {},
   "outputs": [],
   "source": [
    "from monai.data import Dataset\n",
    "import zarr\n",
    "import pandas as pd\n",
    "from pathlib import Path\n",
    "import numpy as np"
   ]
  },
  {
   "cell_type": "code",
   "execution_count": 131,
   "metadata": {},
   "outputs": [],
   "source": [
    "from collections.abc import Sequence\n",
    "\n",
    "\n",
    "class SkintressionDataset(Dataset):\n",
    "    def __init__(self, images, curves, params, sample_to_person):\n",
    "        self.images = zarr.open(images, mode=\"r\")\n",
    "        self.image_keys = list(self.images.keys())\n",
    "        self.curves = {curve.stem: pd.read_csv(curve) for curve in Path(curves).glob(\"*.csv\")}\n",
    "        self.params = pd.read_csv(params)\n",
    "        self.sample_to_person = pd.read_csv(sample_to_person)\n",
    "        self.sample_ids = self.params[\"sample_id\"]\n",
    "        self.indices, self.cumsum = self.calc_indices_and_filter()\n",
    "    \n",
    "    def calc_indices_and_filter(self):\n",
    "        num = 0\n",
    "        lengths = []\n",
    "        for img in self.images.keys():\n",
    "            try:\n",
    "                self.curves[str(img)]\n",
    "            except KeyError:\n",
    "                self.image_keys.remove(img)\n",
    "                print(f\"Removed {img} from dataset\")\n",
    "            else:\n",
    "                length = self.images[img].shape[0]\n",
    "                num += length\n",
    "                lengths.append(length)\n",
    "        cumsum = np.cumsum(lengths)\n",
    "        return num, cumsum\n",
    "    \n",
    "    def __len__(self):\n",
    "        return self.indices\n",
    "    \n",
    "    def __getitem__(self, index: int | slice | Sequence[int]):\n",
    "        img_idx = np.digitize(index, self.cumsum)\n",
    "        sample_id = self.image_keys[img_idx]\n",
    "        slice_idx = img_idx - self.cumsum[np.digitize(index, self.cumsum)]\n",
    "        img = self.images[sample_id][slice_idx, ...]\n",
    "        target = self.params.loc[self.params[\"sample_id\"] == int(sample_id)]\n",
    "        curve = self.curves[str(sample_id)]\n",
    "        return img, target, curve, sample_id"
   ]
  },
  {
   "cell_type": "code",
   "execution_count": 132,
   "metadata": {},
   "outputs": [
    {
     "name": "stdout",
     "output_type": "stream",
     "text": [
      "Removed 1 from dataset\n",
      "Removed 2 from dataset\n",
      "Removed 3 from dataset\n",
      "Removed 4 from dataset\n",
      "Removed 5 from dataset\n"
     ]
    }
   ],
   "source": [
    "# d = SkintressionDataset(\"../data/stacks.zarr/\", \"../data/curves/\", \"../data/params.csv\", \"../data/sample_to_person.csv\")\n",
    "d = SkintressionDataset(\"D:/skinstression/data/new/stacks.zarr/\", \"D:/skinstression/data/new/curves/\", \"D:/skinstression/data/new/params.csv\", \"D:/skinstression/data/new/sample_to_person.csv\")"
   ]
  },
  {
   "cell_type": "code",
   "execution_count": 134,
   "metadata": {},
   "outputs": [
    {
     "data": {
      "text/plain": [
       "(1000, 1000)"
      ]
     },
     "execution_count": 134,
     "metadata": {},
     "output_type": "execute_result"
    }
   ],
   "source": [
    "d[0][0].shape"
   ]
  },
  {
   "cell_type": "code",
   "execution_count": 105,
   "metadata": {},
   "outputs": [
    {
     "name": "stdout",
     "output_type": "stream",
     "text": [
      "217\n",
      "1\n",
      "-31\n",
      "-30\n"
     ]
    }
   ],
   "source": [
    "print(d.cumsum[np.digitize(187, d.cumsum)])\n",
    "print(np.digitize(31, d.cumsum))\n",
    "print(31 - d.cumsum[np.digitize(31, d.cumsum)])\n",
    "print(0 - d.cumsum[np.digitize(0, d.cumsum)])"
   ]
  },
  {
   "cell_type": "code",
   "execution_count": 62,
   "metadata": {},
   "outputs": [
    {
     "data": {
      "text/plain": [
       "array([  30,   62,   93,  124,  155,  186,  217,  248,  279,  310,  341,\n",
       "        371,  402,  433,  464,  495,  526,  557,  588,  619,  650,  681,\n",
       "        711,  742,  773,  804,  835,  866,  897,  928,  959,  990, 1021,\n",
       "       1051, 1082, 1113, 1144, 1175, 1206, 1237, 1268, 1299, 1330, 1361,\n",
       "       1392, 1423, 1454, 1485, 1515, 1545, 1575, 1605, 1635, 1665, 1694,\n",
       "       1755, 1785, 1815, 1845, 1875])"
      ]
     },
     "execution_count": 62,
     "metadata": {},
     "output_type": "execute_result"
    }
   ],
   "source": [
    "d.cumsum"
   ]
  },
  {
   "cell_type": "markdown",
   "metadata": {},
   "source": [
    "d.images[2].shape"
   ]
  },
  {
   "cell_type": "code",
   "execution_count": 13,
   "metadata": {},
   "outputs": [
    {
     "data": {
      "text/plain": [
       "(array([[0, 0, 1, ..., 6, 6, 6],\n",
       "        [0, 1, 1, ..., 4, 4, 8],\n",
       "        [0, 0, 1, ..., 4, 5, 6],\n",
       "        ...,\n",
       "        [0, 0, 0, ..., 4, 4, 4],\n",
       "        [0, 0, 0, ..., 6, 6, 5],\n",
       "        [0, 0, 1, ..., 5, 6, 3]], dtype=uint8),\n",
       "     sample_id         A          k        xc\n",
       " 10         21  1.549959  19.872042  1.301004,\n",
       "       stress   strain\n",
       " 0   0.000000  1.00000\n",
       " 1   0.000313  1.00075\n",
       " 2   0.000625  1.00300\n",
       " 3   0.000625  1.02425\n",
       " 4   0.000625  1.04375\n",
       " 5   0.001875  1.06425\n",
       " 6   0.004687  1.08350\n",
       " 7   0.010625  1.10300\n",
       " 8   0.023438  1.12225\n",
       " 9   0.047188  1.14175\n",
       " 10  0.085625  1.16075\n",
       " 11  0.122813  1.18025\n",
       " 12  0.193438  1.19950\n",
       " 13  0.241875  1.21825\n",
       " 14  0.347812  1.23725\n",
       " 15  0.460625  1.25625\n",
       " 16  0.593750  1.27475\n",
       " 17  0.729062  1.29375\n",
       " 18  0.867188  1.31275\n",
       " 19  0.983437  1.33150\n",
       " 20  1.098438  1.35050\n",
       " 21  1.228438  1.36900\n",
       " 22  1.344375  1.38825,\n",
       " 21)"
      ]
     },
     "execution_count": 13,
     "metadata": {},
     "output_type": "execute_result"
    }
   ],
   "source": [
    "d[10]"
   ]
  },
  {
   "cell_type": "code",
   "execution_count": null,
   "metadata": {},
   "outputs": [],
   "source": []
  }
 ],
 "metadata": {
  "kernelspec": {
   "display_name": "skinstression",
   "language": "python",
   "name": "python3"
  },
  "language_info": {
   "codemirror_mode": {
    "name": "ipython",
    "version": 3
   },
   "file_extension": ".py",
   "mimetype": "text/x-python",
   "name": "python",
   "nbconvert_exporter": "python",
   "pygments_lexer": "ipython3",
   "version": "3.11.7"
  }
 },
 "nbformat": 4,
 "nbformat_minor": 2
}
