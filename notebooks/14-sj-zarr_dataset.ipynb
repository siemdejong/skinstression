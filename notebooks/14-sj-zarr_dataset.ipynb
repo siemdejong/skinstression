{
 "cells": [
  {
   "cell_type": "code",
   "execution_count": 4,
   "metadata": {},
   "outputs": [],
   "source": [
    "from monai.data import Dataset\n",
    "import zarr\n",
    "import pandas as pd\n",
    "from pathlib import Path"
   ]
  },
  {
   "cell_type": "code",
   "execution_count": 85,
   "metadata": {},
   "outputs": [],
   "source": [
    "from collections.abc import Sequence\n",
    "\n",
    "\n",
    "class SkisntressionDataset(Dataset):\n",
    "    def __init__(self, images, curves, params, sample_to_person):\n",
    "        self.images = zarr.open(images, mode=\"r\")\n",
    "        self.curves = {curve.stem: pd.read_csv(curve) for curve in Path(curves).glob(\"*.csv\")}\n",
    "        self.params = pd.read_csv(params)\n",
    "        self.sample_to_person = pd.read_csv(sample_to_person)\n",
    "        self.sample_ids = self.params[\"sample_id\"]\n",
    "    \n",
    "    def __len__(self):\n",
    "        return len(self.sample_ids)\n",
    "    \n",
    "    def __getitem__(self, index: int | slice | Sequence[int]):\n",
    "        sample_id = self.sample_ids[index]\n",
    "        img = self.images[sample_id][0, ...]\n",
    "        target = self.params.loc[self.params[\"sample_id\"] == int(sample_id)]\n",
    "        return img, target, sample_id"
   ]
  },
  {
   "cell_type": "code",
   "execution_count": 86,
   "metadata": {},
   "outputs": [],
   "source": [
    "d = SkisntressionDataset(\"../data/stacks.zarr/\", \"../data/curves/\", \"../data/params.csv\", \"../data/sample_to_person.csv\")"
   ]
  },
  {
   "cell_type": "code",
   "execution_count": 84,
   "metadata": {},
   "outputs": [
    {
     "data": {
      "text/plain": [
       "(array([[0, 0, 1, ..., 6, 6, 6],\n",
       "        [0, 1, 1, ..., 4, 4, 8],\n",
       "        [0, 0, 1, ..., 4, 5, 6],\n",
       "        ...,\n",
       "        [0, 0, 0, ..., 4, 4, 4],\n",
       "        [0, 0, 0, ..., 6, 6, 5],\n",
       "        [0, 0, 1, ..., 5, 6, 3]], dtype=uint8),\n",
       "     sample_id         A          k        xc\n",
       " 10         21  1.549959  19.872042  1.301004,\n",
       " 21)"
      ]
     },
     "execution_count": 84,
     "metadata": {},
     "output_type": "execute_result"
    }
   ],
   "source": [
    "d[10]"
   ]
  },
  {
   "cell_type": "code",
   "execution_count": null,
   "metadata": {},
   "outputs": [],
   "source": []
  }
 ],
 "metadata": {
  "kernelspec": {
   "display_name": "skinstression",
   "language": "python",
   "name": "python3"
  },
  "language_info": {
   "codemirror_mode": {
    "name": "ipython",
    "version": 3
   },
   "file_extension": ".py",
   "mimetype": "text/x-python",
   "name": "python",
   "nbconvert_exporter": "python",
   "pygments_lexer": "ipython3",
   "version": "3.11.7"
  }
 },
 "nbformat": 4,
 "nbformat_minor": 2
}
