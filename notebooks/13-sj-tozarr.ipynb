{
 "cells": [
  {
   "cell_type": "code",
   "execution_count": 2,
   "metadata": {},
   "outputs": [],
   "source": [
    "from pathlib import Path\n",
    "import zarr\n",
    "import tifffile\n",
    "import pandas as pd"
   ]
  },
  {
   "cell_type": "code",
   "execution_count": 12,
   "metadata": {},
   "outputs": [],
   "source": [
    "images = Path(\"../data/stacks/\").glob(\"*.tif\")\n",
    "dataset = zarr.group(store=\"../data/stacks.zarr\")\n",
    "for image in images:\n",
    "    img = tifffile.imread(image)\n",
    "    dataset[image.stem] = zarr.array(img, chunks=(1, None, None))"
   ]
  },
  {
   "cell_type": "code",
   "execution_count": 13,
   "metadata": {},
   "outputs": [
    {
     "data": {
      "text/plain": [
       "<zarr.core.Array '/1' (30, 1000, 1000) uint8>"
      ]
     },
     "execution_count": 13,
     "metadata": {},
     "output_type": "execute_result"
    }
   ],
   "source": [
    "g=zarr.open_group(\"../data/stacks.zarr/\")\n",
    "g[\"1\"]"
   ]
  },
  {
   "cell_type": "code",
   "execution_count": 5,
   "metadata": {},
   "outputs": [],
   "source": [
    "curves = Path(\"../data/curves/\").glob(\"*.csv\")\n",
    "dataset = zarr.group(store=\"../data/curves.zarr\")\n",
    "for curve in curves:\n",
    "    df = pd.read_csv(curve)\n",
    "    arr = df.to_numpy()\n",
    "    dataset[curve.stem] = zarr.array(arr)"
   ]
  },
  {
   "cell_type": "code",
   "execution_count": null,
   "metadata": {},
   "outputs": [],
   "source": []
  }
 ],
 "metadata": {
  "kernelspec": {
   "display_name": "skinstression",
   "language": "python",
   "name": "python3"
  },
  "language_info": {
   "codemirror_mode": {
    "name": "ipython",
    "version": 3
   },
   "file_extension": ".py",
   "mimetype": "text/x-python",
   "name": "python",
   "nbconvert_exporter": "python",
   "pygments_lexer": "ipython3",
   "version": "3.11.7"
  }
 },
 "nbformat": 4,
 "nbformat_minor": 2
}
