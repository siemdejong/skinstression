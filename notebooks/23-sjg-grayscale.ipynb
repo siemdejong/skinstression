{
 "cells": [
  {
   "cell_type": "code",
   "execution_count": 14,
   "metadata": {},
   "outputs": [],
   "source": [
    "from glob import glob\n",
    "import numpy as np\n",
    "from PIL import Image\n",
    "import os"
   ]
  },
  {
   "cell_type": "code",
   "execution_count": 2,
   "metadata": {},
   "outputs": [],
   "source": [
    "image_paths = glob(f\"../data/z-stacks/**/*.bmp\")\n",
    "output_path = \"../data/grayscale/z-stacks\""
   ]
  },
  {
   "cell_type": "code",
   "execution_count": 17,
   "metadata": {},
   "outputs": [],
   "source": [
    "def all_make_grayscale(image_paths: list[str], output_path: str) -> None:\n",
    "    \"\"\"Equalizes all images selected with a list of image paths using CLAHE.\n",
    "    \n",
    "    The output path must not contain a trailing \"/\".\n",
    "    \"\"\"\n",
    "    from tqdm import tqdm\n",
    "\n",
    "    stack_id_of_non_color_imgs = []\n",
    "\n",
    "    for path in tqdm(image_paths):\n",
    "        stack_id = path.split('/')[-2]\n",
    "        slice_fn = path.split('/')[-1]\n",
    "\n",
    "        # Read image from file\n",
    "        img_pil = Image.open(path)\n",
    "        img_rgb = np.asarray(img_pil)\n",
    "\n",
    "        # Eject 2PEF and THG channels\n",
    "        try:\n",
    "            img = img_rgb[:, :, 0]\n",
    "        except IndexError:\n",
    "            # Sometimes, images are not stored with 3 channels.\n",
    "            # Take note of these images.\n",
    "            if stack_id not in stack_id_of_non_color_imgs:\n",
    "                stack_id_of_non_color_imgs.append(stack_id)\n",
    "                tqdm.write(f\"{stack_id} does not contain color information.\")\n",
    "            img = img_rgb\n",
    "        \n",
    "        if not os.path.exists(f\"{output_path}/{stack_id}\"):\n",
    "            os.makedirs(f\"{output_path}/{stack_id}\")\n",
    "\n",
    "        # img = Image.fromarray((img * 255).astype(np.uint8))\n",
    "        img = Image.fromarray(img)\n",
    "        img.save(f\"{output_path}/{stack_id}/{slice_fn}\")\n"
   ]
  },
  {
   "cell_type": "code",
   "execution_count": 18,
   "metadata": {},
   "outputs": [
    {
     "name": "stderr",
     "output_type": "stream",
     "text": [
      "  2%|▏         | 40/1905 [00:00<00:30, 60.92it/s]"
     ]
    },
    {
     "name": "stdout",
     "output_type": "stream",
     "text": [
      "9 does not contain color information.\n"
     ]
    },
    {
     "name": "stderr",
     "output_type": "stream",
     "text": [
      " 69%|██████▊   | 1308/1905 [00:28<00:08, 68.22it/s]"
     ]
    },
    {
     "name": "stdout",
     "output_type": "stream",
     "text": [
      "8 does not contain color information.\n"
     ]
    },
    {
     "name": "stderr",
     "output_type": "stream",
     "text": [
      " 76%|███████▋  | 1453/1905 [00:31<00:07, 57.52it/s]"
     ]
    },
    {
     "name": "stdout",
     "output_type": "stream",
     "text": [
      "34 does not contain color information.\n"
     ]
    },
    {
     "name": "stderr",
     "output_type": "stream",
     "text": [
      "100%|██████████| 1905/1905 [00:41<00:00, 45.74it/s]\n"
     ]
    }
   ],
   "source": [
    "# Running this cell may take a while :)\n",
    "all_make_grayscale(image_paths, output_path)"
   ]
  },
  {
   "cell_type": "code",
   "execution_count": null,
   "metadata": {},
   "outputs": [],
   "source": []
  }
 ],
 "metadata": {
  "kernelspec": {
   "display_name": "Python 3.9.13 ('stress-strain': conda)",
   "language": "python",
   "name": "python3"
  },
  "language_info": {
   "codemirror_mode": {
    "name": "ipython",
    "version": 3
   },
   "file_extension": ".py",
   "mimetype": "text/x-python",
   "name": "python",
   "nbconvert_exporter": "python",
   "pygments_lexer": "ipython3",
   "version": "3.9.13"
  },
  "orig_nbformat": 4,
  "vscode": {
   "interpreter": {
    "hash": "4fd9d29be4be53d2a8266d7710f981b13e49e93ff435830c894f457b625c5065"
   }
  }
 },
 "nbformat": 4,
 "nbformat_minor": 2
}
