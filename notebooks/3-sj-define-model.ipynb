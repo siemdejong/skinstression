{
 "cells": [
  {
   "cell_type": "code",
   "execution_count": 7,
   "metadata": {},
   "outputs": [],
   "source": [
    "from torch import nn\n",
    "from torchviz import make_dot\n",
    "from torch.utils.data import Dataset"
   ]
  },
  {
   "cell_type": "code",
   "execution_count": 6,
   "metadata": {},
   "outputs": [],
   "source": [
    "class THGSkinCNN(nn.Module):\n",
    "    \"\"\"Convolutional Neural Network (CNN) to calculate stress-strain features in THG skin images.\n",
    "\n",
    "    Assumes a 2D 258*258*1 input image.\n",
    "    \"\"\"\n",
    "\n",
    "    def __init__(self, config):\n",
    "        nn.Module(THGSkinCNN, self).__init__()\n",
    "        self.conv1 = nn.Conv2d(1, 64, 3)  # TODO: How many input channels? Only THG?\n",
    "        self.conv2 = nn.Conv2d(64, 64, 5)\n",
    "        self.conv3 = nn.Conv2d(64, 64, 3)\n",
    "        self.conv4 = nn.Conv2d(64, 64, 6)\n",
    "\n",
    "        self.fc1 = nn.Linear(1 * 1 * 64, 1 * 1 * 64)\n",
    "        self.fc2 = nn.Linear(1 * 1 * 64, 1 * 1 * 256)\n",
    "        self.fc3 = nn.Linear(\n",
    "            1 * 1 * 256, 3\n",
    "        )  # TODO: How many output features are needed?\n",
    "\n",
    "        self.dropout = nn.Dropout2d(0.3)\n",
    "        self.max_pool = nn.MaxPool2d(2)\n",
    "        self.relu = nn.ReLU()\n",
    "\n",
    "    def forward(self, x):\n",
    "        x = self.relu(self.conv1(x))\n",
    "        x = self.dropout(x)\n",
    "        for _ in range(3):\n",
    "            x = self.relu(self.max_pool(x))\n",
    "\n",
    "        x = self.relu(self.conv2(x))\n",
    "        x = self.dropout(x)\n",
    "        x = self.relu(self.max_pool(x))\n",
    "\n",
    "        x = self.relu(self.conv3(x))\n",
    "        x = self.dropout(x)\n",
    "        x = self.relu(self.max_pool(x))\n",
    "\n",
    "        x = self.relu(self.conv4(x))\n",
    "        x = self.dropout(x)\n",
    "\n",
    "        # In order to feed it to the fully connected layer.\n",
    "        x = x.view(-1, self.num_flat_features(x))\n",
    "        x = self.relu(self.fc1(x))\n",
    "        x = self.relu(self.fc2(x))\n",
    "        x = self.fc3(x)\n",
    "\n",
    "        return x\n",
    "\n",
    "    def num_flat_features(self, x):\n",
    "        \"\"\"Calculate the number of features in arg x.\"\"\"\n",
    "        size = x.size()[1:]  # all dimensions except the batch dimension\n",
    "        num_features = 1\n",
    "        for s in size:\n",
    "            num_features *= s\n",
    "\n",
    "        return num_features"
   ]
  },
  {
   "cell_type": "code",
   "execution_count": null,
   "metadata": {},
   "outputs": [],
   "source": [
    "class RandomImageDataset(Dataset):\n",
    "    def __init__(\n",
    "        self, \n",
    "    ):\n",
    "        self.img_labels = pd.read_csv(annotations_file)\n",
    "        self.img_dir = img_dir\n",
    "        self.transform = transform\n",
    "        self.target_transform = target_transform\n",
    "\n",
    "    def __len__(self):\n",
    "        return len(self.img_labels)\n",
    "\n",
    "    def __getitem__(self, idx):\n",
    "        img_path = os.path.join(self.img_dir, self.img_labels.iloc[idx, 0])\n",
    "        image = read_image(img_path)\n",
    "        label = self.img_labels.iloc[idx, 1]\n",
    "        if self.transform:\n",
    "            image = self.transform(image)\n",
    "        if self.target_transform:\n",
    "            label = self.target_transform(label)\n",
    "        return image, label"
   ]
  }
 ],
 "metadata": {
  "kernelspec": {
   "display_name": "Python 3.9.13 ('stress-strain': conda)",
   "language": "python",
   "name": "python3"
  },
  "language_info": {
   "codemirror_mode": {
    "name": "ipython",
    "version": 3
   },
   "file_extension": ".py",
   "mimetype": "text/x-python",
   "name": "python",
   "nbconvert_exporter": "python",
   "pygments_lexer": "ipython3",
   "version": "3.9.13"
  },
  "orig_nbformat": 4,
  "vscode": {
   "interpreter": {
    "hash": "4fd9d29be4be53d2a8266d7710f981b13e49e93ff435830c894f457b625c5065"
   }
  }
 },
 "nbformat": 4,
 "nbformat_minor": 2
}
