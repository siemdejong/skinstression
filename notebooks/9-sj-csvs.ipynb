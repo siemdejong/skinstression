{
 "cells": [
  {
   "cell_type": "code",
   "execution_count": 19,
   "metadata": {},
   "outputs": [],
   "source": [
    "import ast\n",
    "\n",
    "import pandas as pd\n",
    "import numpy as np"
   ]
  },
  {
   "cell_type": "code",
   "execution_count": 12,
   "metadata": {},
   "outputs": [
    {
     "data": {
      "text/html": [
       "<div>\n",
       "<style scoped>\n",
       "    .dataframe tbody tr th:only-of-type {\n",
       "        vertical-align: middle;\n",
       "    }\n",
       "\n",
       "    .dataframe tbody tr th {\n",
       "        vertical-align: top;\n",
       "    }\n",
       "\n",
       "    .dataframe thead th {\n",
       "        text-align: right;\n",
       "    }\n",
       "</style>\n",
       "<table border=\"1\" class=\"dataframe\">\n",
       "  <thead>\n",
       "    <tr style=\"text-align: right;\">\n",
       "      <th></th>\n",
       "      <th>index</th>\n",
       "      <th>stress</th>\n",
       "      <th>strain</th>\n",
       "    </tr>\n",
       "  </thead>\n",
       "  <tbody>\n",
       "    <tr>\n",
       "      <th>0</th>\n",
       "      <td>6</td>\n",
       "      <td>[0.0, 0.00344, 0.00375, 0.00406, 0.00375, 0.00...</td>\n",
       "      <td>[1.0, 1.001, 1.001, 1.001, 1.001, 1.001, 1.000...</td>\n",
       "    </tr>\n",
       "    <tr>\n",
       "      <th>1</th>\n",
       "      <td>8</td>\n",
       "      <td>[0.0, 0.0003125000000000003, 0.0084375, 0.0071...</td>\n",
       "      <td>[1.0, 1.0995, 1.106, 1.12525, 1.14425, 1.164, ...</td>\n",
       "    </tr>\n",
       "    <tr>\n",
       "      <th>2</th>\n",
       "      <td>9</td>\n",
       "      <td>[0.0, 0.0190625, 0.019375, 0.019375, 0.0196875...</td>\n",
       "      <td>[1.0, 1.1005, 1.1005, 1.1005, 1.1005, 1.1005, ...</td>\n",
       "    </tr>\n",
       "  </tbody>\n",
       "</table>\n",
       "</div>"
      ],
      "text/plain": [
       "   index                                             stress  \\\n",
       "0      6  [0.0, 0.00344, 0.00375, 0.00406, 0.00375, 0.00...   \n",
       "1      8  [0.0, 0.0003125000000000003, 0.0084375, 0.0071...   \n",
       "2      9  [0.0, 0.0190625, 0.019375, 0.019375, 0.0196875...   \n",
       "\n",
       "                                              strain  \n",
       "0  [1.0, 1.001, 1.001, 1.001, 1.001, 1.001, 1.000...  \n",
       "1  [1.0, 1.0995, 1.106, 1.12525, 1.14425, 1.164, ...  \n",
       "2  [1.0, 1.1005, 1.1005, 1.1005, 1.1005, 1.1005, ...  "
      ]
     },
     "execution_count": 12,
     "metadata": {},
     "output_type": "execute_result"
    }
   ],
   "source": [
    "curves_df = pd.read_csv(r\"D:\\skinstression\\data\\curves.csv\", converters={1:ast.literal_eval, 2:ast.literal_eval})\n",
    "curves_df.head(3)"
   ]
  },
  {
   "cell_type": "code",
   "execution_count": 17,
   "metadata": {},
   "outputs": [],
   "source": [
    "for i, row in curves_df.iterrows():\n",
    "    sample_id = row.iloc[0]\n",
    "    stress = np.array(row.iloc[1])\n",
    "    strain = np.array(row.iloc[2])\n",
    "    df = pd.DataFrame({\"stress\": stress, \"strain\": strain})\n",
    "    df.to_csv(f\"D:/skinstression/data/curves/{sample_id}.csv\", index=False)"
   ]
  },
  {
   "cell_type": "code",
   "execution_count": null,
   "metadata": {},
   "outputs": [],
   "source": []
  }
 ],
 "metadata": {
  "kernelspec": {
   "display_name": "Python 3",
   "language": "python",
   "name": "python3"
  },
  "language_info": {
   "codemirror_mode": {
    "name": "ipython",
    "version": 3
   },
   "file_extension": ".py",
   "mimetype": "text/x-python",
   "name": "python",
   "nbconvert_exporter": "python",
   "pygments_lexer": "ipython3",
   "version": "3.11.7"
  }
 },
 "nbformat": 4,
 "nbformat_minor": 2
}
