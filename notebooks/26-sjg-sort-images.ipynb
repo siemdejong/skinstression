{
 "cells": [
  {
   "cell_type": "code",
   "execution_count": 19,
   "metadata": {},
   "outputs": [],
   "source": [
    "import shutil\n",
    "from glob import glob\n",
    "import pandas as pd\n",
    "import os\n",
    "from tqdm import tqdm"
   ]
  },
  {
   "cell_type": "code",
   "execution_count": 20,
   "metadata": {},
   "outputs": [],
   "source": [
    "stacks = glob(\"/scistor/guest/sjg203/projects/shg-strain-stress/data/preprocessed/z-stacks/**\")\n",
    "output_folder = \"/scistor/guest/sjg203/projects/shg-strain-stress/data/sorted\""
   ]
  },
  {
   "cell_type": "code",
   "execution_count": 21,
   "metadata": {},
   "outputs": [],
   "source": [
    "# Empty the sorted folder\n",
    "if os.path.exists(output_folder):\n",
    "    shutil.rmtree(output_folder)"
   ]
  },
  {
   "cell_type": "code",
   "execution_count": 22,
   "metadata": {},
   "outputs": [
    {
     "name": "stderr",
     "output_type": "stream",
     "text": [
      "100%|██████████| 61/61 [00:42<00:00,  1.45it/s]\n"
     ]
    }
   ],
   "source": [
    "for stack in tqdm(stacks):\n",
    "    try:\n",
    "        PyIQ_output = glob(f\"{stack}/*PyIQ_output/*PyIQ_analyze_out.csv\")[0]\n",
    "    except IndexError:\n",
    "        continue\n",
    "    analysis = pd.read_csv(PyIQ_output)\n",
    "    analysis_sorted = analysis.sort_values(\"SpatEntNorm\", ascending=False)\n",
    "\n",
    "    image_id = 0\n",
    "    for image_fn in analysis_sorted[\"Filename\"].to_numpy():\n",
    "        stack_id = image_fn.split('/')[-2]\n",
    "        output_fn = f\"{output_folder}/{stack_id}/{image_id}.bmp\"\n",
    "\n",
    "        if not os.path.exists(f\"{output_folder}/{stack_id}\"):\n",
    "            os.makedirs(f\"{output_folder}/{stack_id}\")\n",
    "\n",
    "        shutil.copy(image_fn, output_fn)\n",
    "\n",
    "        image_id += 1 # Renumber images 0-k.\n",
    "\n"
   ]
  },
  {
   "cell_type": "code",
   "execution_count": null,
   "metadata": {},
   "outputs": [],
   "source": []
  }
 ],
 "metadata": {
  "kernelspec": {
   "display_name": "Python 3.9.13 ('stress-strain': conda)",
   "language": "python",
   "name": "python3"
  },
  "language_info": {
   "codemirror_mode": {
    "name": "ipython",
    "version": 3
   },
   "file_extension": ".py",
   "mimetype": "text/x-python",
   "name": "python",
   "nbconvert_exporter": "python",
   "pygments_lexer": "ipython3",
   "version": "3.9.13"
  },
  "orig_nbformat": 4,
  "vscode": {
   "interpreter": {
    "hash": "4fd9d29be4be53d2a8266d7710f981b13e49e93ff435830c894f457b625c5065"
   }
  }
 },
 "nbformat": 4,
 "nbformat_minor": 2
}
